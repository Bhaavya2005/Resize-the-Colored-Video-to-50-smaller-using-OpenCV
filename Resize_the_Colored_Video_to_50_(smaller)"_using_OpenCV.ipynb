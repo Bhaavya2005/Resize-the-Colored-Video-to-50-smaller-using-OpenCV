{
  "nbformat": 4,
  "nbformat_minor": 0,
  "metadata": {
    "colab": {
      "provenance": [],
      "authorship_tag": "ABX9TyNyo7wHYGP1cTsQU2u6Vsww",
      "include_colab_link": true
    },
    "kernelspec": {
      "name": "python3",
      "display_name": "Python 3"
    },
    "language_info": {
      "name": "python"
    }
  },
  "cells": [
    {
      "cell_type": "markdown",
      "metadata": {
        "id": "view-in-github",
        "colab_type": "text"
      },
      "source": [
        "<a href=\"https://colab.research.google.com/github/Bhaavya2005/Resize-the-Colored-Video-to-50-smaller-using-OpenCV/blob/main/Resize_the_Colored_Video_to_50_(smaller)%22_using_OpenCV.ipynb\" target=\"_parent\"><img src=\"https://colab.research.google.com/assets/colab-badge.svg\" alt=\"Open In Colab\"/></a>"
      ]
    },
    {
      "cell_type": "code",
      "execution_count": null,
      "metadata": {
        "id": "IwuLIvfUDL4k"
      },
      "outputs": [],
      "source": [
        "# Mini Project 18\n",
        "\n",
        "import cv2\n",
        "def resize(input, output, scale=50):\n",
        "    # Opening the file to read\n",
        "    video_capture = cv2.VideoCapture(input)\n",
        "\n",
        "    #Getting the Frame width and height of the Video\n",
        "    Fwidth = int(video_capture.get(cv2.CAP_PROP_FRAME_WIDTH))\n",
        "    Fheight = int(video_capture.get(cv2.CAP_PROP_FRAME_HEIGHT))\n",
        "\n",
        "    # New Dimensions calculation\n",
        "    new_width = int(Fwidth * scale / 100)\n",
        "    new_height = int(Fheight * scale / 100)\n",
        "\n",
        "    # Creating a VideoWriter object in order to save the resized video\n",
        "    fourcc = cv2.VideoWriter_fourcc(*'XVID')\n",
        "    out = cv2.VideoWriter(output, fourcc, 20.0, (new_width, new_height))\n",
        "    while True:\n",
        "        ret, frame = video_capture.read()\n",
        "        if not ret:\n",
        "            break\n",
        "\n",
        "        # Frame resizing\n",
        "        resizedF = cv2.resize(frame, (new_width, new_height))\n",
        "\n",
        "        # Writing the resized frame to the output video\n",
        "        out.write(resizedF)\n",
        "\n",
        "    # Freeing/Releasing the video objects\n",
        "    video_capture.release()\n",
        "    out.release()\n",
        "    print(\"The video was successfully resized!\")\n",
        "\n",
        "input = 'D:\\Coding\\Python programmming\\summer_school\\color_vid.mp4'\n",
        "output = 'resized_color.mp4'\n",
        "resize(input, output, scale=50)"
      ]
    }
  ]
}